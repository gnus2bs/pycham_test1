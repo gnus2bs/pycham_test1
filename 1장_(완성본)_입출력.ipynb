{
  "nbformat": 4,
  "nbformat_minor": 0,
  "metadata": {
    "colab": {
      "name": "1장_(완성본)_입출력.ipynb",
      "provenance": [],
      "collapsed_sections": [],
      "include_colab_link": true
    },
    "kernelspec": {
      "name": "python3",
      "display_name": "Python 3"
    }
  },
  "cells": [
    {
      "cell_type": "markdown",
      "metadata": {
        "id": "view-in-github",
        "colab_type": "text"
      },
      "source": [
        "<a href=\"https://colab.research.google.com/github/gnus2bs/pycham_test1/blob/master/1%EC%9E%A5_(%EC%99%84%EC%84%B1%EB%B3%B8)_%EC%9E%85%EC%B6%9C%EB%A0%A5.ipynb\" target=\"_parent\"><img src=\"https://colab.research.google.com/assets/colab-badge.svg\" alt=\"Open In Colab\"/></a>"
      ]
    },
    {
      "cell_type": "markdown",
      "metadata": {
        "id": "LJAHyqRXU_tN"
      },
      "source": [
        "# 1. 출력명령어 \n",
        "### 출력 명령어 형식\n",
        "\n",
        "\n",
        "> print( 출력할 내용 )\n",
        "\n",
        "\n"
      ]
    },
    {
      "cell_type": "code",
      "metadata": {
        "id": "HndD3I4ybonQ"
      },
      "source": [
        "#2022"
      ],
      "execution_count": null,
      "outputs": []
    },
    {
      "cell_type": "code",
      "metadata": {
        "id": "GXO9r4k0_M42",
        "colab": {
          "base_uri": "https://localhost:8080/"
        },
        "outputId": "92f970f6-1241-4e4a-d39c-fb2d4b61fd40"
      },
      "source": [
        "print(2022)"
      ],
      "execution_count": 4,
      "outputs": [
        {
          "output_type": "stream",
          "name": "stdout",
          "text": [
            "2022\n"
          ]
        }
      ]
    },
    {
      "cell_type": "code",
      "source": [
        "#3022(2022+1000을 사용하여 출력) "
      ],
      "metadata": {
        "id": "EiZEW0bfiS11"
      },
      "execution_count": null,
      "outputs": []
    },
    {
      "cell_type": "code",
      "source": [
        "print(2022+1000)"
      ],
      "metadata": {
        "colab": {
          "base_uri": "https://localhost:8080/"
        },
        "id": "9EsL4M8piSn6",
        "outputId": "1a163494-c0ac-498a-faeb-eb3b64978544"
      },
      "execution_count": 5,
      "outputs": [
        {
          "output_type": "stream",
          "name": "stdout",
          "text": [
            "3022\n"
          ]
        }
      ]
    },
    {
      "cell_type": "code",
      "source": [
        "print(2022**2) #거듭제곱 기호: **"
      ],
      "metadata": {
        "colab": {
          "base_uri": "https://localhost:8080/"
        },
        "id": "niAmM6AIiSXg",
        "outputId": "8457a5eb-3c77-4497-e7f4-6fdf2acda2e6"
      },
      "execution_count": 3,
      "outputs": [
        {
          "output_type": "stream",
          "name": "stdout",
          "text": [
            "4088484\n"
          ]
        }
      ]
    },
    {
      "cell_type": "markdown",
      "metadata": {
        "id": "KqFYkVtu_foZ"
      },
      "source": [
        "### 문자는 따옴표로 감싸주어야 함\n",
        "> print('문자')"
      ]
    },
    {
      "cell_type": "code",
      "metadata": {
        "id": "_eXE0Zei_TnT"
      },
      "source": [
        "#hello world"
      ],
      "execution_count": null,
      "outputs": []
    },
    {
      "cell_type": "code",
      "metadata": {
        "id": "RqdNnVh2bopV",
        "colab": {
          "base_uri": "https://localhost:8080/"
        },
        "outputId": "dff8d7f9-532f-4921-cf32-ea320368c6bf"
      },
      "source": [
        "print('hello world')"
      ],
      "execution_count": 6,
      "outputs": [
        {
          "output_type": "stream",
          "name": "stdout",
          "text": [
            "hello world\n"
          ]
        }
      ]
    },
    {
      "cell_type": "code",
      "metadata": {
        "id": "fHog4iYYL-q4"
      },
      "source": [
        "#저는 홍길동 입니다"
      ],
      "execution_count": 2,
      "outputs": []
    },
    {
      "cell_type": "code",
      "metadata": {
        "id": "-Mn2gKC1y2XL",
        "colab": {
          "base_uri": "https://localhost:8080/"
        },
        "outputId": "09c5b01c-a0ea-4821-b7e2-cfe8ce842435"
      },
      "source": [
        "print('저는 홍길동 입니다')"
      ],
      "execution_count": 8,
      "outputs": [
        {
          "output_type": "stream",
          "name": "stdout",
          "text": [
            "저는 홍길동 입니다\n"
          ]
        }
      ]
    },
    {
      "cell_type": "code",
      "metadata": {
        "id": "h2t7k_yh-IMC",
        "colab": {
          "base_uri": "https://localhost:8080/"
        },
        "outputId": "837747a9-1265-48e0-9fa9-af394430cf6d"
      },
      "source": [
        "# 숫자라 하더라도 따옴표로 감싸면 문자로 인식\n",
        "# 1+1은 귀요미\n",
        "print('1+1은 귀요미')"
      ],
      "execution_count": 9,
      "outputs": [
        {
          "output_type": "stream",
          "name": "stdout",
          "text": [
            "1+1은 귀요미\n"
          ]
        }
      ]
    },
    {
      "cell_type": "markdown",
      "metadata": {
        "id": "OEQFUbNCA9fm"
      },
      "source": [
        "### 연결하여 출력하기 \n",
        "> print(  ,  )\n",
        "<br/>\n",
        "> print(  +  )"
      ]
    },
    {
      "cell_type": "code",
      "metadata": {
        "id": "O0URZFHFAFfE",
        "colab": {
          "base_uri": "https://localhost:8080/"
        },
        "outputId": "44356a8b-816c-4b9d-dcea-f4972aed1551"
      },
      "source": [
        "# 콤마, 로 연결하여 출력하기\n",
        "name = '홍길동'\n",
        "print('내 이름은', name, '이야')"
      ],
      "execution_count": 11,
      "outputs": [
        {
          "output_type": "stream",
          "name": "stdout",
          "text": [
            "내 이름은 홍길동 이야\n"
          ]
        }
      ]
    },
    {
      "cell_type": "code",
      "metadata": {
        "id": "QEjssp5gAU2N",
        "colab": {
          "base_uri": "https://localhost:8080/"
        },
        "outputId": "7be3c512-2440-40a5-bc46-66c603271217"
      },
      "source": [
        "# 더하기 +로 연결하여 출력하기\n",
        "name = '홍길동'\n",
        "print('내 이름은'+name+'이야')"
      ],
      "execution_count": 12,
      "outputs": [
        {
          "output_type": "stream",
          "name": "stdout",
          "text": [
            "내 이름은홍길동이야\n"
          ]
        }
      ]
    },
    {
      "cell_type": "markdown",
      "source": [
        "### 지정한 문자로 구분하여 출력하기\n",
        "> print('문자열1','문자열2', sep=\"**구분자**\") \n",
        ">\n",
        " 결과: 문자열1**구분자**문자열2\n"
      ],
      "metadata": {
        "id": "PtlmfzMJtMGx"
      }
    },
    {
      "cell_type": "code",
      "source": [
        "# hi/my/name/is 출력하기\n",
        "print('hi','my','name', 'is', sep=\"/\")"
      ],
      "metadata": {
        "colab": {
          "base_uri": "https://localhost:8080/"
        },
        "id": "UFhpHbqzu-Vd",
        "outputId": "037671c0-d862-4406-9f2a-fe53464f0b95"
      },
      "execution_count": 32,
      "outputs": [
        {
          "output_type": "stream",
          "name": "stdout",
          "text": [
            "hi/my/name/is\n"
          ]
        }
      ]
    },
    {
      "cell_type": "code",
      "source": [
        "# A@B@C 출력하기\n",
        "print('A','B','C',sep=\"@\")"
      ],
      "metadata": {
        "colab": {
          "base_uri": "https://localhost:8080/"
        },
        "id": "DERo5yfPtrCl",
        "outputId": "030b7cd1-6893-4e8f-be4a-d9c957e03c65"
      },
      "execution_count": 33,
      "outputs": [
        {
          "output_type": "stream",
          "name": "stdout",
          "text": [
            "A@B@C\n"
          ]
        }
      ]
    },
    {
      "cell_type": "markdown",
      "source": [
        "### 출력 마지막에 나올 내용을 지정하여 출력하기\n",
        "> print('문자열1',end=\" \") \n",
        "> \n",
        ">print('문자열2')\n",
        ">\n",
        "결과: 문자열1 문자열2 \n",
        ">\n",
        "end 옵션을 사용하면 그 뒤의 출력값과 이어서 출력한다.(즉, 줄바꿈을 하지 않게 된다.)\n"
      ],
      "metadata": {
        "id": "dtpKthweuNsZ"
      }
    },
    {
      "cell_type": "code",
      "source": [
        "print('A', end=\" \")\n",
        "print('B')"
      ],
      "metadata": {
        "colab": {
          "base_uri": "https://localhost:8080/"
        },
        "id": "DzbiyXwnucxL",
        "outputId": "54f347ed-8543-417f-9835-aea7567c8f1d"
      },
      "execution_count": 34,
      "outputs": [
        {
          "output_type": "stream",
          "name": "stdout",
          "text": [
            "A B\n"
          ]
        }
      ]
    },
    {
      "cell_type": "markdown",
      "metadata": {
        "id": "Y5VKN8McEun1"
      },
      "source": [
        "실습 1. 본인 이름, 관심분야를 한 줄로 출력해보기 "
      ]
    },
    {
      "cell_type": "code",
      "metadata": {
        "id": "tZAX0aBQEtsJ",
        "colab": {
          "base_uri": "https://localhost:8080/"
        },
        "outputId": "b5f08de4-6083-4554-c7fa-74e8e4a5a6e1"
      },
      "source": [
        "print('내 이름은 홍길동이고, 주특기는 팔씨름이야')"
      ],
      "execution_count": 13,
      "outputs": [
        {
          "output_type": "stream",
          "name": "stdout",
          "text": [
            "내 이름은 홍길동이고, 주특기는 팔씨름이야\n"
          ]
        }
      ]
    },
    {
      "cell_type": "markdown",
      "metadata": {
        "id": "zNlNwOErClxr"
      },
      "source": [
        "# 2. 입력명령어\n",
        "### 입력명령어 형식\n",
        "> input('입력안내문')\n",
        ">\n",
        "자료형을 선언하지 않을 경우 문자열 형태로 입력받음"
      ]
    },
    {
      "cell_type": "code",
      "source": [
        "#변수 a, b를 선언하여 합친 단어 출력해보기(입력: 펜, 파인애플,  출력: 펜파인애플)\n",
        "a = input('첫번째 단어? ')\n",
        "b = input('두번째 단어? ')\n",
        "print(a+b)"
      ],
      "metadata": {
        "colab": {
          "base_uri": "https://localhost:8080/"
        },
        "id": "ggRWEMlVncRf",
        "outputId": "ff51c6fa-453b-484d-fd80-26276259b93a"
      },
      "execution_count": 36,
      "outputs": [
        {
          "output_type": "stream",
          "name": "stdout",
          "text": [
            "첫번째 단어? 펜\n",
            "두번째 단어? 파인애플\n",
            "펜파인애플\n"
          ]
        }
      ]
    },
    {
      "cell_type": "code",
      "metadata": {
        "id": "g-WfHArdGA8b",
        "colab": {
          "base_uri": "https://localhost:8080/"
        },
        "outputId": "be181ae0-a3f4-4807-ecfe-6317494f0c37"
      },
      "source": [
        "#변수 a, b를 선언하여 합친 단어 출력해보기(입력: 애플, 펜,  출력: 애플+펜)\n",
        "a = input('첫번째 단어? ')\n",
        "b = input('두번째 단어? ')\n",
        "print(a+'+'+b)"
      ],
      "execution_count": 37,
      "outputs": [
        {
          "output_type": "stream",
          "name": "stdout",
          "text": [
            "첫번째 단어? 애플\n",
            "두번째 단어? 펜\n",
            "애플+펜\n"
          ]
        }
      ]
    },
    {
      "cell_type": "code",
      "metadata": {
        "id": "P35K2YD_B_fJ",
        "colab": {
          "base_uri": "https://localhost:8080/"
        },
        "outputId": "af3752fd-e064-4543-f8c6-2c5548470083"
      },
      "source": [
        "#변수 a, b를 선언하여 더한 값 출력해보기(입력: 3, 5)\n",
        "a = int(input('첫번째 숫자 입력: '))\n",
        "b = int(input('두번째 숫자 입력: '))\n",
        "print(a+b)"
      ],
      "execution_count": 38,
      "outputs": [
        {
          "output_type": "stream",
          "name": "stdout",
          "text": [
            "첫번째 숫자 입력: 3\n",
            "두번째 숫자 입력: 5\n",
            "8\n"
          ]
        }
      ]
    },
    {
      "cell_type": "code",
      "metadata": {
        "id": "WmWrf3RZGMq1",
        "colab": {
          "base_uri": "https://localhost:8080/"
        },
        "outputId": "95ea9a5d-b15b-453d-95cc-3b0fe75c6619"
      },
      "source": [
        "#변수 a, b를 선언하여 더한 값 출력해보기(입력: 3.14, 4.23)\n",
        "a = input()\n",
        "b = input()\n",
        "print(float(a)+float(b))"
      ],
      "execution_count": 39,
      "outputs": [
        {
          "output_type": "stream",
          "name": "stdout",
          "text": [
            "3.14\n",
            "4.23\n",
            "7.370000000000001\n"
          ]
        }
      ]
    },
    {
      "cell_type": "code",
      "source": [
        "#변수 a, b를 선언하여 더한 값 출력해보기(입력: 3.14, 4.23,   출력: 7.4(소수첫째자리까지 반올림))\n",
        "a = input()\n",
        "b = input()\n",
        "print(\"%.1f\" %(float(a)+float(b)))"
      ],
      "metadata": {
        "colab": {
          "base_uri": "https://localhost:8080/"
        },
        "id": "bfWA0dd1xJto",
        "outputId": "c682e383-e625-40f4-93d3-f3ef9aa6e69d"
      },
      "execution_count": 43,
      "outputs": [
        {
          "output_type": "stream",
          "name": "stdout",
          "text": [
            "3.14\n",
            "4.23\n",
            "7.4\n"
          ]
        }
      ]
    }
  ]
}